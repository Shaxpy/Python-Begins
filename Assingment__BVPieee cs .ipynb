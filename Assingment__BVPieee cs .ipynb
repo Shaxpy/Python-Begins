{
 "cells": [
  {
   "cell_type": "markdown",
   "metadata": {},
   "source": [
    "## Assingment On Basics of Python"
   ]
  },
  {
   "cell_type": "markdown",
   "metadata": {},
   "source": [
    "Name :- ________________________fiil in ur name here <br>\n",
    "branch :- ____________<br>\n",
    "year :- ___________<br>\n"
   ]
  },
  {
   "cell_type": "markdown",
   "metadata": {},
   "source": [
    "### To fil in the details change the cell from code to markdown and edit it <br>\n",
    "### Then run the cell in the markdown format itself <br>"
   ]
  },
  {
   "cell_type": "markdown",
   "metadata": {},
   "source": [
    "Try to use least predifined functions you will also be evaluated on that basis <br>\n",
    "\n",
    "The last que has some browny points , Do try it :P"
   ]
  },
  {
   "cell_type": "code",
   "execution_count": null,
   "metadata": {},
   "outputs": [],
   "source": [
    "Shashwat Pandey EEE 1st year"
   ]
  },
  {
   "cell_type": "markdown",
   "metadata": {},
   "source": [
    "problem 1<br>\n",
    "Given a string S, reverse each word of a string individually. For eg. if a string is \"abc def\", reversed string should be \"cba fed\".\n",
    "\n",
    "eg = <br>\n",
    "IN : \"This is a test\" <br>\n",
    "OUT : \"tset a si sihT\"\n",
    "\n",
    "use input() to take input"
   ]
  },
  {
   "cell_type": "code",
   "execution_count": null,
   "metadata": {},
   "outputs": [],
   "source": [
    "str = input()\n",
    "for i in range(len(str)):\n",
    "  if str[i]!= \" \":\n",
    "    print(str[::-1])"
   ]
  },
  {
   "cell_type": "markdown",
   "metadata": {},
   "source": [
    "problem 2<br>\n",
    "Given a list of strings, return a list with the strings <br>\n",
    "\n",
    "in sorted order, except group all the strings that begin with 'x' first.<br>\n",
    "\n",
    "e.g. ['mix', 'xyz', 'apple', 'xanadu', 'aardvark'] yields\n",
    "['xanadu', 'xyz', 'aardvark', 'apple', 'mix']"
   ]
  },
  {
   "cell_type": "code",
   "execution_count": 3,
   "metadata": {},
   "outputs": [
    {
     "name": "stdout",
     "output_type": "stream",
     "text": [
      "xyz mix\n"
     ]
    },
    {
     "ename": "AttributeError",
     "evalue": "'str' object has no attribute 'sort'",
     "output_type": "error",
     "traceback": [
      "\u001b[1;31m---------------------------------------------------------------------------\u001b[0m",
      "\u001b[1;31mAttributeError\u001b[0m                            Traceback (most recent call last)",
      "\u001b[1;32m<ipython-input-3-9aa5586092f5>\u001b[0m in \u001b[0;36m<module>\u001b[1;34m\u001b[0m\n\u001b[0;32m      1\u001b[0m \u001b[0mL\u001b[0m\u001b[1;33m=\u001b[0m\u001b[0minput\u001b[0m\u001b[1;33m(\u001b[0m\u001b[1;33m)\u001b[0m\u001b[1;33m\u001b[0m\u001b[0m\n\u001b[1;32m----> 2\u001b[1;33m \u001b[0mL\u001b[0m\u001b[1;33m.\u001b[0m\u001b[0msort\u001b[0m\u001b[1;33m(\u001b[0m\u001b[1;33m)\u001b[0m\u001b[1;33m\u001b[0m\u001b[0m\n\u001b[0m\u001b[0;32m      3\u001b[0m \u001b[0mL\u001b[0m\u001b[1;33m.\u001b[0m\u001b[0msort\u001b[0m\u001b[1;33m(\u001b[0m\u001b[0mkey\u001b[0m\u001b[1;33m=\u001b[0m\u001b[1;32mlambda\u001b[0m \u001b[0mx\u001b[0m\u001b[1;33m:\u001b[0m\u001b[0mx\u001b[0m\u001b[1;33m[\u001b[0m\u001b[1;36m0\u001b[0m\u001b[1;33m]\u001b[0m\u001b[1;33m!=\u001b[0m\u001b[1;34m'x'\u001b[0m\u001b[1;33m)\u001b[0m\u001b[1;33m\u001b[0m\u001b[0m\n",
      "\u001b[1;31mAttributeError\u001b[0m: 'str' object has no attribute 'sort'"
     ]
    }
   ],
   "source": [
    "L=input()\n",
    "L.sort()\n",
    "L.sort(key=lambda x:x[0]!='x')"
   ]
  },
  {
   "cell_type": "markdown",
   "metadata": {},
   "source": [
    "problem 3<br>\n",
    "Given a list of numbers, return a list where <br>\n",
    "all adjacent == elements have been reduced to a single element,<br>\n",
    "\n",
    "so [1, 2, 2, 3] returns [1, 2, 3]"
   ]
  },
  {
   "cell_type": "code",
   "execution_count": null,
   "metadata": {},
   "outputs": [],
   "source": [
    "str=input()\n",
    "str=sorted(set(str))\n",
    "print(str)"
   ]
  },
  {
   "cell_type": "markdown",
   "metadata": {},
   "source": [
    "problem 4<br>\n",
    "Given a string str1 and another string str2. <br>\n",
    "\n",
    "Find the character in str2 that is present at the minimum index in str1. <br>\n",
    "\n",
    "If no character of str2 is present in str1 then print ‘No character present’. <br>\n",
    "\n",
    "for ex: <br>\n",
    "Input : str1 = \"im a good person\" <br>\n",
    "        str2 = \"posy\" <br>\n",
    "Output : o <br>\n",
    "    \n",
    "p,o and s of str2 are present in str1, <br>\n",
    "\n",
    "but o is present at minimum index, which is 6."
   ]
  },
  {
   "cell_type": "code",
   "execution_count": null,
   "metadata": {},
   "outputs": [],
   "source": [
    "str1=input()\n",
    "str2=input()\n",
    "#not understood"
   ]
  },
  {
   "cell_type": "markdown",
   "metadata": {},
   "source": [
    "problem 5<br>\n",
    "Given strings a and b, return a single string with a and b separated by a space '<a> <b>', <br>\n",
    "\n",
    "except swap the first 2 chars of each string. <br>\n",
    "e.g. <br>\n",
    "  'mix', 'pod' -> 'pox mid' <br>\n",
    "  'dog', 'dinner' -> 'dig donner'<br>\n",
    "Assume a and b are length 2 or more.<br>\n",
    "take both the strings from the user using input()"
   ]
  },
  {
   "cell_type": "code",
   "execution_count": 9,
   "metadata": {},
   "outputs": [
    {
     "name": "stdout",
     "output_type": "stream",
     "text": [
      "abc\n",
      "def\n",
      "aef dbc\n"
     ]
    }
   ],
   "source": [
    "a=input()\n",
    "b=input()\n",
    "def swap(a,b):\n",
    "    new_a = b[:1] + a[1:]  \n",
    "    new_b = a[:1] + b[1:]  \n",
    "    return new_b+\" \" +new_a\n",
    "print (swap(a,b))"
   ]
  },
  {
   "cell_type": "markdown",
   "metadata": {},
   "source": [
    "problem 6<br>\n",
    "A website requires the users to input username and password to register. Write a program to check the validity of password input by users.<br>\n",
    "Following are the criteria for checking the password: <br>\n",
    "1. At least 1 letter between [a-z]<br>\n",
    "\n",
    "2. At least 1 number between [0-9]<br>\n",
    "\n",
    "3. At least 1 letter between [A-Z]<br>\n",
    "\n",
    "4. At least 1 character from [$#@]<br>\n",
    "\n",
    "5. Minimum length of transaction password: 6<br>\n",
    "\n",
    "5. Maximum length of transaction password: 12<br>\n",
    "\n",
    "Your program should accept a sequence of comma separated passwords and will check them according to the above criteria.<br> "
   ]
  },
  {
   "cell_type": "code",
   "execution_count": null,
   "metadata": {},
   "outputs": [],
   "source": [
    "import re \n",
    "password = input()\n",
    "t = 0\n",
    "while True:\n",
    "    if not re.search(\"[a-z]\",password):\n",
    "        t=1     \n",
    "        break\n",
    "    elif not re.search(\"[0-9]\",password):\n",
    "        t=1     \n",
    "        break\n",
    "    elif not re.search(\"[A-Z]\",password):\n",
    "        t=1     \n",
    "        break\n",
    "    elif not re.search(\"[$#@]\",password):\n",
    "        t=1     \n",
    "        break\n",
    "    elif not (len(password)<6):\n",
    "        t=1     \n",
    "        break\n",
    "    elif not (len(password)>12):\n",
    "        t=1     \n",
    "        break\n",
    "    else:\n",
    "        t=0\n",
    "        print(\"Valid Password\")\n",
    "if t==1:\n",
    "    print(\"Invalid Password\")"
   ]
  },
  {
   "cell_type": "markdown",
   "metadata": {},
   "source": [
    "problem 7<br>\n",
    "compute a program to make a KBC game , you need not include any graphics or so just make a game on terminal itself <br> \n",
    "including features like lifelines(you can improvise in this) add as many features as u can to gain more points. <br>                                       \n",
    "\n",
    "\n",
    "                                        OR\n",
    " \n",
    "    \n",
    "compute a program to make a game of Tictac toe (you can use multidimensional lists here)<br>\n",
    "again no need of graphics just make it on terminal <br>\n",
    " \n",
    "All The best coders ;)"
   ]
  },
  {
   "cell_type": "code",
   "execution_count": null,
   "metadata": {},
   "outputs": [],
   "source": [
    "import os    \n",
    "import time    \n",
    "    \n",
    "board = [' ',' ',' ',' ',' ',' ',' ',' ',' ',' ']    \n",
    "player = 1    \n",
    "   \n",
    "########win Flags##########    \n",
    "Win = 1    \n",
    "Draw = -1    \n",
    "Running = 0    \n",
    "Stop = 1     \n",
    "Game = Running    \n",
    "Mark = 'X'    \n",
    "   \n",
    "#This Function Draws Game Board    \n",
    "def DrawBoard():    \n",
    "    print(\" %c | %c | %c \" % (board[1],board[2],board[3]))    \n",
    "    print(\"___|___|___\")    \n",
    "    print(\" %c | %c | %c \" % (board[4],board[5],board[6]))    \n",
    "    print(\"___|___|___\")    \n",
    "    print(\" %c | %c | %c \" % (board[7],board[8],board[9]))    \n",
    "    print(\"   |   |   \")    \n",
    "   \n",
    "#This Function Checks position is empty or not    \n",
    "def CheckPosition(x):    \n",
    "    if(board[x] == ' '):    \n",
    "        return True    \n",
    "    else:    \n",
    "        return False    \n",
    "   \n",
    "#This Function Checks player has won or not    \n",
    "def CheckWin():    \n",
    "    global Game    \n",
    "    #Horizontal winning condition    \n",
    "    if(board[1] == board[2] and board[2] == board[3] and board[1] != ' '):    \n",
    "        Game = Win    \n",
    "    elif(board[4] == board[5] and board[5] == board[6] and board[4] != ' '):    \n",
    "        Game = Win    \n",
    "    elif(board[7] == board[8] and board[8] == board[9] and board[7] != ' '):    \n",
    "        Game = Win    \n",
    "    #Vertical Winning Condition    \n",
    "    elif(board[1] == board[4] and board[4] == board[7] and board[1] != ' '):    \n",
    "        Game = Win    \n",
    "    elif(board[2] == board[5] and board[5] == board[8] and board[2] != ' '):    \n",
    "        Game = Win    \n",
    "    elif(board[3] == board[6] and board[6] == board[9] and board[3] != ' '):    \n",
    "        Game=Win    \n",
    "    #Diagonal Winning Condition    \n",
    "    elif(board[1] == board[5] and board[5] == board[9] and board[5] != ' '):    \n",
    "        Game = Win    \n",
    "    elif(board[3] == board[5] and board[5] == board[7] and board[5] != ' '):    \n",
    "        Game=Win    \n",
    "    #Match Tie or Draw Condition    \n",
    "    elif(board[1]!=' ' and board[2]!=' ' and board[3]!=' ' and board[4]!=' ' and board[5]!=' ' and board[6]!=' ' and board[7]!=' ' and board[8]!=' ' and board[9]!=' '):    \n",
    "        Game=Draw    \n",
    "    else:            \n",
    "        Game=Running    \n",
    "    \n",
    "print(\"Tic-Tac-Toe Game Designed By Sourabh Somani\")    \n",
    "print(\"Player 1 [X] --- Player 2 [O]\\n\")    \n",
    "print()    \n",
    "print()    \n",
    "print(\"Please Wait...\")    \n",
    "time.sleep(3)    \n",
    "while(Game == Running):    \n",
    "    os.system('cls')    \n",
    "    DrawBoard()    \n",
    "    if(player % 2 != 0):    \n",
    "        print(\"Player 1's chance\")    \n",
    "        Mark = 'X'    \n",
    "    else:    \n",
    "        print(\"Player 2's chance\")    \n",
    "        Mark = 'O'    \n",
    "    choice = int(input(\"Enter the position between [1-9] where you want to mark : \"))    \n",
    "    if(CheckPosition(choice)):    \n",
    "        board[choice] = Mark    \n",
    "        player+=1    \n",
    "        CheckWin()    \n",
    "    \n",
    "os.system('cls')    \n",
    "DrawBoard()    \n",
    "if(Game==Draw):    \n",
    "    print(\"Game Draw\")    \n",
    "elif(Game==Win):    \n",
    "    player-=1    \n",
    "    if(player%2!=0):    \n",
    "        print(\"Player 1 Won\")    \n",
    "    else:    \n",
    "        print(\"Player 2 Won\") "
   ]
  }
 ],
 "metadata": {
  "kernelspec": {
   "display_name": "Python 3",
   "language": "python",
   "name": "python3"
  }
 },
 "nbformat": 4,
 "nbformat_minor": 2
}
